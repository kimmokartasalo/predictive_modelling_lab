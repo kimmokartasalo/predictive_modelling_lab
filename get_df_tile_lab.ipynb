{
 "metadata": {
  "language_info": {
   "codemirror_mode": {
    "name": "ipython",
    "version": 3
   },
   "file_extension": ".py",
   "mimetype": "text/x-python",
   "name": "python",
   "nbconvert_exporter": "python",
   "pygments_lexer": "ipython3",
   "version": "3.6.8-final"
  },
  "orig_nbformat": 2,
  "kernelspec": {
   "name": "python3",
   "display_name": "Python 3"
  }
 },
 "nbformat": 4,
 "nbformat_minor": 2,
 "cells": [
  {
   "cell_type": "code",
   "execution_count": 1,
   "metadata": {},
   "outputs": [],
   "source": [
    "import os\n",
    "import numpy as np\n",
    "import pandas as pd\n",
    "\n",
    "from tqdm import tqdm\n",
    "\n",
    "pd.options.display.max_rows = 6"
   ]
  },
  {
   "cell_type": "code",
   "execution_count": 2,
   "metadata": {},
   "outputs": [],
   "source": [
    "path_df_TCGA = '/Users/philippeadmweitz/Documents/Projects/prostate_rna/TCGA_PRAD/df_TCGA.csv'\n",
    "path_df_tile = '/Users/philippeadmweitz/Documents/Projects/prostate_rna/TCGA_PRAD/df_tile_TCGA_0.904037.pkl'\n",
    "path_df_out = '/Users/philippeadmweitz/Documents/Teaching/Predictive Modelling/lab/df_tile_lab.pkl'"
   ]
  },
  {
   "cell_type": "code",
   "execution_count": 3,
   "metadata": {},
   "outputs": [
    {
     "output_type": "execute_result",
     "data": {
      "text/plain": [
       "                                  file_id  \\\n",
       "0    2dacb59c-af40-4955-8682-ec1f92e5d6f9   \n",
       "1    e317ff1a-7e46-402b-8aca-edf4b4e44503   \n",
       "2    af4e9c67-238f-4513-b3da-642a6c5b2565   \n",
       "..                                    ...   \n",
       "377  a9700d69-c5de-4732-9347-3c9a7a43ced8   \n",
       "378  223ac808-0681-41ad-9571-8137d63c660b   \n",
       "379  cbc91164-cccf-4ec0-a911-a82a91541758   \n",
       "\n",
       "                                             file_name  \\\n",
       "0    TCGA-TP-A8TT-01Z-00-DX1.652EA809-D931-46EE-80C...   \n",
       "1    TCGA-G9-6373-01Z-00-DX1.cb1899c3-2157-49ee-ac4...   \n",
       "2    TCGA-G9-7523-01Z-00-DX1.2551f5e7-9fac-422f-b83...   \n",
       "..                                                 ...   \n",
       "377  TCGA-YL-A8HJ-01Z-00-DX1.7C6FAED0-CD7C-4EC5-BEB...   \n",
       "378  TCGA-J4-A67O-01Z-00-DX1.C1E6799B-4351-485E-A7D...   \n",
       "379  TCGA-HC-8261-01Z-00-DX1.231568ea-f873-4f62-85d...   \n",
       "\n",
       "                                  case_id  \\\n",
       "0    a13a7252-de84-4950-9307-80fc8a6a668d   \n",
       "1    c3a509c6-35a6-4d17-a9fd-0aa8884b33a0   \n",
       "2    93e78f4c-e74b-4675-8d2c-d641fa25d8f2   \n",
       "..                                    ...   \n",
       "377  666d8b0c-593f-4ec3-b16a-2dadbead8c32   \n",
       "378  3fc9e3b4-8bc5-4bf8-bff6-dd90346b83a1   \n",
       "379  f16ce517-d51d-499a-a4c4-a6844fefa52c   \n",
       "\n",
       "                                entity_id      entity_submitter_id  \\\n",
       "0    d7fd9c4c-1cbf-41cf-bf2f-7648388020fa  TCGA-TP-A8TT-01Z-00-DX1   \n",
       "1    187b8dec-ed4d-44d0-ab0f-6628af8dbbec  TCGA-G9-6373-01Z-00-DX1   \n",
       "2    bdad68bf-8874-4e21-ab5a-44885a3f8ec5  TCGA-G9-7523-01Z-00-DX1   \n",
       "..                                    ...                      ...   \n",
       "377  df996a26-aa3a-4d21-973f-70d4fa24f86e  TCGA-YL-A8HJ-01Z-00-DX1   \n",
       "378  17eeac82-4d33-4eec-81eb-7f2312ea19df  TCGA-J4-A67O-01Z-00-DX1   \n",
       "379  dded7604-4a61-4fc3-b151-5eb24f8b6cf0  TCGA-HC-8261-01Z-00-DX1   \n",
       "\n",
       "          Case ID Case ID RNA_FPKM-UQ                   File ID RNA_FPKM-UQ  \\\n",
       "0    TCGA-TP-A8TT        TCGA-TP-A8TT  af328f6e-20d6-4114-8a8f-02879b62cf34   \n",
       "1    TCGA-G9-6373        TCGA-G9-6373  15b3e921-34ee-4d59-8f1d-260f5431acd9   \n",
       "2    TCGA-G9-7523        TCGA-G9-7523  aaec0784-c969-4b97-87f3-431adbdfa1bc   \n",
       "..            ...                 ...                                   ...   \n",
       "377  TCGA-YL-A8HJ        TCGA-YL-A8HJ  3ff4af80-7ed8-4c51-b4aa-ab6662471310   \n",
       "378  TCGA-J4-A67O        TCGA-J4-A67O  3a72cadc-7c23-41e6-9d21-1011b7cbe69e   \n",
       "379  TCGA-HC-8261        TCGA-HC-8261  3072a30a-dd0e-4db2-9424-b21174ab3d29   \n",
       "\n",
       "                                 File Name RNA_FPKM-UQ Case ID RNA_counts  \\\n",
       "0    c8e9a6f4-de22-4714-a656-9817b0609b66.FPKM-UQ.t...       TCGA-TP-A8TT   \n",
       "1    0a923c09-5f30-4e5c-adef-baca0c461227.FPKM-UQ.t...       TCGA-G9-6373   \n",
       "2    a6fd39af-570e-4dcc-a3fd-62ed42192236.FPKM-UQ.t...       TCGA-G9-7523   \n",
       "..                                                 ...                ...   \n",
       "377  dfb1ab26-8751-4b67-9edc-2c8c9bf15f76.FPKM-UQ.t...       TCGA-YL-A8HJ   \n",
       "378  fcf3715b-ecfc-4554-bb0b-96d3171d85be.FPKM-UQ.t...       TCGA-J4-A67O   \n",
       "379  d9cf6f7f-de36-484b-b3b1-ca5ba945b217.FPKM-UQ.t...       TCGA-HC-8261   \n",
       "\n",
       "     ... secondary_gleason_grade synchronous_malignancy  treatments_0_state  \\\n",
       "0    ...               Pattern 3                     No            released   \n",
       "1    ...               Pattern 3                     No            released   \n",
       "2    ...               Pattern 5                     No            released   \n",
       "..   ...                     ...                    ...                 ...   \n",
       "377  ...               Pattern 5                     No            released   \n",
       "378  ...               Pattern 4                     No            released   \n",
       "379  ...               Pattern 4                     No            released   \n",
       "\n",
       "     treatments_0_treatment_or_therapy  treatments_0_treatment_type  \\\n",
       "0                                  yes       Radiation Therapy, NOS   \n",
       "1                                   no       Radiation Therapy, NOS   \n",
       "2                                   no  Pharmaceutical Therapy, NOS   \n",
       "..                                 ...                          ...   \n",
       "377                                yes  Pharmaceutical Therapy, NOS   \n",
       "378                                 no  Pharmaceutical Therapy, NOS   \n",
       "379                                 no  Pharmaceutical Therapy, NOS   \n",
       "\n",
       "    treatments_1_state treatments_1_treatment_or_therapy  \\\n",
       "0             released                                no   \n",
       "1             released                                no   \n",
       "2             released                                no   \n",
       "..                 ...                               ...   \n",
       "377           released                               yes   \n",
       "378           released                                no   \n",
       "379           released                                no   \n",
       "\n",
       "     treatments_1_treatment_type vital_status year_of_diagnosis  \n",
       "0    Pharmaceutical Therapy, NOS        Alive            2013.0  \n",
       "1    Pharmaceutical Therapy, NOS        Alive            2009.0  \n",
       "2         Radiation Therapy, NOS        Alive            2011.0  \n",
       "..                           ...          ...               ...  \n",
       "377       Radiation Therapy, NOS        Alive            2009.0  \n",
       "378       Radiation Therapy, NOS        Alive            2012.0  \n",
       "379       Radiation Therapy, NOS        Alive            2011.0  \n",
       "\n",
       "[380 rows x 38 columns]"
      ],
      "text/html": "<div>\n<style scoped>\n    .dataframe tbody tr th:only-of-type {\n        vertical-align: middle;\n    }\n\n    .dataframe tbody tr th {\n        vertical-align: top;\n    }\n\n    .dataframe thead th {\n        text-align: right;\n    }\n</style>\n<table border=\"1\" class=\"dataframe\">\n  <thead>\n    <tr style=\"text-align: right;\">\n      <th></th>\n      <th>file_id</th>\n      <th>file_name</th>\n      <th>case_id</th>\n      <th>entity_id</th>\n      <th>entity_submitter_id</th>\n      <th>Case ID</th>\n      <th>Case ID RNA_FPKM-UQ</th>\n      <th>File ID RNA_FPKM-UQ</th>\n      <th>File Name RNA_FPKM-UQ</th>\n      <th>Case ID RNA_counts</th>\n      <th>...</th>\n      <th>secondary_gleason_grade</th>\n      <th>synchronous_malignancy</th>\n      <th>treatments_0_state</th>\n      <th>treatments_0_treatment_or_therapy</th>\n      <th>treatments_0_treatment_type</th>\n      <th>treatments_1_state</th>\n      <th>treatments_1_treatment_or_therapy</th>\n      <th>treatments_1_treatment_type</th>\n      <th>vital_status</th>\n      <th>year_of_diagnosis</th>\n    </tr>\n  </thead>\n  <tbody>\n    <tr>\n      <th>0</th>\n      <td>2dacb59c-af40-4955-8682-ec1f92e5d6f9</td>\n      <td>TCGA-TP-A8TT-01Z-00-DX1.652EA809-D931-46EE-80C...</td>\n      <td>a13a7252-de84-4950-9307-80fc8a6a668d</td>\n      <td>d7fd9c4c-1cbf-41cf-bf2f-7648388020fa</td>\n      <td>TCGA-TP-A8TT-01Z-00-DX1</td>\n      <td>TCGA-TP-A8TT</td>\n      <td>TCGA-TP-A8TT</td>\n      <td>af328f6e-20d6-4114-8a8f-02879b62cf34</td>\n      <td>c8e9a6f4-de22-4714-a656-9817b0609b66.FPKM-UQ.t...</td>\n      <td>TCGA-TP-A8TT</td>\n      <td>...</td>\n      <td>Pattern 3</td>\n      <td>No</td>\n      <td>released</td>\n      <td>yes</td>\n      <td>Radiation Therapy, NOS</td>\n      <td>released</td>\n      <td>no</td>\n      <td>Pharmaceutical Therapy, NOS</td>\n      <td>Alive</td>\n      <td>2013.0</td>\n    </tr>\n    <tr>\n      <th>1</th>\n      <td>e317ff1a-7e46-402b-8aca-edf4b4e44503</td>\n      <td>TCGA-G9-6373-01Z-00-DX1.cb1899c3-2157-49ee-ac4...</td>\n      <td>c3a509c6-35a6-4d17-a9fd-0aa8884b33a0</td>\n      <td>187b8dec-ed4d-44d0-ab0f-6628af8dbbec</td>\n      <td>TCGA-G9-6373-01Z-00-DX1</td>\n      <td>TCGA-G9-6373</td>\n      <td>TCGA-G9-6373</td>\n      <td>15b3e921-34ee-4d59-8f1d-260f5431acd9</td>\n      <td>0a923c09-5f30-4e5c-adef-baca0c461227.FPKM-UQ.t...</td>\n      <td>TCGA-G9-6373</td>\n      <td>...</td>\n      <td>Pattern 3</td>\n      <td>No</td>\n      <td>released</td>\n      <td>no</td>\n      <td>Radiation Therapy, NOS</td>\n      <td>released</td>\n      <td>no</td>\n      <td>Pharmaceutical Therapy, NOS</td>\n      <td>Alive</td>\n      <td>2009.0</td>\n    </tr>\n    <tr>\n      <th>2</th>\n      <td>af4e9c67-238f-4513-b3da-642a6c5b2565</td>\n      <td>TCGA-G9-7523-01Z-00-DX1.2551f5e7-9fac-422f-b83...</td>\n      <td>93e78f4c-e74b-4675-8d2c-d641fa25d8f2</td>\n      <td>bdad68bf-8874-4e21-ab5a-44885a3f8ec5</td>\n      <td>TCGA-G9-7523-01Z-00-DX1</td>\n      <td>TCGA-G9-7523</td>\n      <td>TCGA-G9-7523</td>\n      <td>aaec0784-c969-4b97-87f3-431adbdfa1bc</td>\n      <td>a6fd39af-570e-4dcc-a3fd-62ed42192236.FPKM-UQ.t...</td>\n      <td>TCGA-G9-7523</td>\n      <td>...</td>\n      <td>Pattern 5</td>\n      <td>No</td>\n      <td>released</td>\n      <td>no</td>\n      <td>Pharmaceutical Therapy, NOS</td>\n      <td>released</td>\n      <td>no</td>\n      <td>Radiation Therapy, NOS</td>\n      <td>Alive</td>\n      <td>2011.0</td>\n    </tr>\n    <tr>\n      <th>...</th>\n      <td>...</td>\n      <td>...</td>\n      <td>...</td>\n      <td>...</td>\n      <td>...</td>\n      <td>...</td>\n      <td>...</td>\n      <td>...</td>\n      <td>...</td>\n      <td>...</td>\n      <td>...</td>\n      <td>...</td>\n      <td>...</td>\n      <td>...</td>\n      <td>...</td>\n      <td>...</td>\n      <td>...</td>\n      <td>...</td>\n      <td>...</td>\n      <td>...</td>\n      <td>...</td>\n    </tr>\n    <tr>\n      <th>377</th>\n      <td>a9700d69-c5de-4732-9347-3c9a7a43ced8</td>\n      <td>TCGA-YL-A8HJ-01Z-00-DX1.7C6FAED0-CD7C-4EC5-BEB...</td>\n      <td>666d8b0c-593f-4ec3-b16a-2dadbead8c32</td>\n      <td>df996a26-aa3a-4d21-973f-70d4fa24f86e</td>\n      <td>TCGA-YL-A8HJ-01Z-00-DX1</td>\n      <td>TCGA-YL-A8HJ</td>\n      <td>TCGA-YL-A8HJ</td>\n      <td>3ff4af80-7ed8-4c51-b4aa-ab6662471310</td>\n      <td>dfb1ab26-8751-4b67-9edc-2c8c9bf15f76.FPKM-UQ.t...</td>\n      <td>TCGA-YL-A8HJ</td>\n      <td>...</td>\n      <td>Pattern 5</td>\n      <td>No</td>\n      <td>released</td>\n      <td>yes</td>\n      <td>Pharmaceutical Therapy, NOS</td>\n      <td>released</td>\n      <td>yes</td>\n      <td>Radiation Therapy, NOS</td>\n      <td>Alive</td>\n      <td>2009.0</td>\n    </tr>\n    <tr>\n      <th>378</th>\n      <td>223ac808-0681-41ad-9571-8137d63c660b</td>\n      <td>TCGA-J4-A67O-01Z-00-DX1.C1E6799B-4351-485E-A7D...</td>\n      <td>3fc9e3b4-8bc5-4bf8-bff6-dd90346b83a1</td>\n      <td>17eeac82-4d33-4eec-81eb-7f2312ea19df</td>\n      <td>TCGA-J4-A67O-01Z-00-DX1</td>\n      <td>TCGA-J4-A67O</td>\n      <td>TCGA-J4-A67O</td>\n      <td>3a72cadc-7c23-41e6-9d21-1011b7cbe69e</td>\n      <td>fcf3715b-ecfc-4554-bb0b-96d3171d85be.FPKM-UQ.t...</td>\n      <td>TCGA-J4-A67O</td>\n      <td>...</td>\n      <td>Pattern 4</td>\n      <td>No</td>\n      <td>released</td>\n      <td>no</td>\n      <td>Pharmaceutical Therapy, NOS</td>\n      <td>released</td>\n      <td>no</td>\n      <td>Radiation Therapy, NOS</td>\n      <td>Alive</td>\n      <td>2012.0</td>\n    </tr>\n    <tr>\n      <th>379</th>\n      <td>cbc91164-cccf-4ec0-a911-a82a91541758</td>\n      <td>TCGA-HC-8261-01Z-00-DX1.231568ea-f873-4f62-85d...</td>\n      <td>f16ce517-d51d-499a-a4c4-a6844fefa52c</td>\n      <td>dded7604-4a61-4fc3-b151-5eb24f8b6cf0</td>\n      <td>TCGA-HC-8261-01Z-00-DX1</td>\n      <td>TCGA-HC-8261</td>\n      <td>TCGA-HC-8261</td>\n      <td>3072a30a-dd0e-4db2-9424-b21174ab3d29</td>\n      <td>d9cf6f7f-de36-484b-b3b1-ca5ba945b217.FPKM-UQ.t...</td>\n      <td>TCGA-HC-8261</td>\n      <td>...</td>\n      <td>Pattern 4</td>\n      <td>No</td>\n      <td>released</td>\n      <td>no</td>\n      <td>Pharmaceutical Therapy, NOS</td>\n      <td>released</td>\n      <td>no</td>\n      <td>Radiation Therapy, NOS</td>\n      <td>Alive</td>\n      <td>2011.0</td>\n    </tr>\n  </tbody>\n</table>\n<p>380 rows × 38 columns</p>\n</div>"
     },
     "metadata": {},
     "execution_count": 3
    }
   ],
   "source": [
    "df_TCGA = pd.read_csv(path_df_TCGA, index_col=0)\n",
    "df_TCGA"
   ]
  },
  {
   "cell_type": "code",
   "execution_count": 4,
   "metadata": {},
   "outputs": [
    {
     "output_type": "execute_result",
     "data": {
      "text/plain": [
       "                                                slide_name  \\\n",
       "0        TCGA-TP-A8TT-01Z-00-DX1.652EA809-D931-46EE-80C...   \n",
       "1        TCGA-TP-A8TT-01Z-00-DX1.652EA809-D931-46EE-80C...   \n",
       "2        TCGA-TP-A8TT-01Z-00-DX1.652EA809-D931-46EE-80C...   \n",
       "...                                                    ...   \n",
       "1509015  TCGA-HC-8261-01Z-00-DX1.231568ea-f873-4f62-85d...   \n",
       "1509016  TCGA-HC-8261-01Z-00-DX1.231568ea-f873-4f62-85d...   \n",
       "1509017  TCGA-HC-8261-01Z-00-DX1.231568ea-f873-4f62-85d...   \n",
       "\n",
       "                                                 tile_name  label    top  \\\n",
       "0        TCGA-TP-A8TT-01Z-00-DX1.652EA809-D931-46EE-80C...   True    894   \n",
       "1        TCGA-TP-A8TT-01Z-00-DX1.652EA809-D931-46EE-80C...  False    894   \n",
       "2        TCGA-TP-A8TT-01Z-00-DX1.652EA809-D931-46EE-80C...  False    894   \n",
       "...                                                    ...    ...    ...   \n",
       "1509015  TCGA-HC-8261-01Z-00-DX1.231568ea-f873-4f62-85d...  False  43953   \n",
       "1509016  TCGA-HC-8261-01Z-00-DX1.231568ea-f873-4f62-85d...  False  43953   \n",
       "1509017  TCGA-HC-8261-01Z-00-DX1.231568ea-f873-4f62-85d...  False  43953   \n",
       "\n",
       "         bottom   left  right       mpp  mpp_source  lvl         blur  \\\n",
       "0          2682  82248  84036  0.904037      0.2527    0  2627.288468   \n",
       "1          2682  83142  84930  0.904037      0.2527    0  2676.576168   \n",
       "2          2682  84036  85824  0.904037      0.2527    0  1649.007784   \n",
       "...         ...    ...    ...       ...         ...  ...          ...   \n",
       "1509015   45746  39468  41261  0.904037      0.2520    0  1944.815425   \n",
       "1509016   45746  40365  42158  0.904037      0.2520    0  1778.774628   \n",
       "1509017   45746  41262  43055  0.904037      0.2520    0  1832.824466   \n",
       "\n",
       "              Case ID                                          path_tile  \\\n",
       "0        TCGA-TP-A8TT  /mnt/ssd2tb/data/prostate_tcga_macenko/TCGA-TP...   \n",
       "1        TCGA-TP-A8TT  /mnt/ssd2tb/data/prostate_tcga_macenko/TCGA-TP...   \n",
       "2        TCGA-TP-A8TT  /mnt/ssd2tb/data/prostate_tcga_macenko/TCGA-TP...   \n",
       "...               ...                                                ...   \n",
       "1509015  TCGA-HC-8261  /mnt/ssd2tb/data/prostate_tcga_macenko/TCGA-HC...   \n",
       "1509016  TCGA-HC-8261  /mnt/ssd2tb/data/prostate_tcga_macenko/TCGA-HC...   \n",
       "1509017  TCGA-HC-8261  /mnt/ssd2tb/data/prostate_tcga_macenko/TCGA-HC...   \n",
       "\n",
       "         cancer_prob  slide_w  slide_h  Test   CV tile_name_ssd  \n",
       "0           0.999692    95615    76681   0.0  9.0         0.jpg  \n",
       "1           0.950958    95615    76681   0.0  9.0                \n",
       "2           0.248699    95615    76681   0.0  9.0                \n",
       "...              ...      ...      ...   ...  ...           ...  \n",
       "1509015     0.178846    73861    46656   0.0  5.0                \n",
       "1509016     0.353926    73861    46656   0.0  5.0                \n",
       "1509017     0.437537    73861    46656   0.0  5.0                \n",
       "\n",
       "[1509018 rows x 19 columns]"
      ],
      "text/html": "<div>\n<style scoped>\n    .dataframe tbody tr th:only-of-type {\n        vertical-align: middle;\n    }\n\n    .dataframe tbody tr th {\n        vertical-align: top;\n    }\n\n    .dataframe thead th {\n        text-align: right;\n    }\n</style>\n<table border=\"1\" class=\"dataframe\">\n  <thead>\n    <tr style=\"text-align: right;\">\n      <th></th>\n      <th>slide_name</th>\n      <th>tile_name</th>\n      <th>label</th>\n      <th>top</th>\n      <th>bottom</th>\n      <th>left</th>\n      <th>right</th>\n      <th>mpp</th>\n      <th>mpp_source</th>\n      <th>lvl</th>\n      <th>blur</th>\n      <th>Case ID</th>\n      <th>path_tile</th>\n      <th>cancer_prob</th>\n      <th>slide_w</th>\n      <th>slide_h</th>\n      <th>Test</th>\n      <th>CV</th>\n      <th>tile_name_ssd</th>\n    </tr>\n  </thead>\n  <tbody>\n    <tr>\n      <th>0</th>\n      <td>TCGA-TP-A8TT-01Z-00-DX1.652EA809-D931-46EE-80C...</td>\n      <td>TCGA-TP-A8TT-01Z-00-DX1.652EA809-D931-46EE-80C...</td>\n      <td>True</td>\n      <td>894</td>\n      <td>2682</td>\n      <td>82248</td>\n      <td>84036</td>\n      <td>0.904037</td>\n      <td>0.2527</td>\n      <td>0</td>\n      <td>2627.288468</td>\n      <td>TCGA-TP-A8TT</td>\n      <td>/mnt/ssd2tb/data/prostate_tcga_macenko/TCGA-TP...</td>\n      <td>0.999692</td>\n      <td>95615</td>\n      <td>76681</td>\n      <td>0.0</td>\n      <td>9.0</td>\n      <td>0.jpg</td>\n    </tr>\n    <tr>\n      <th>1</th>\n      <td>TCGA-TP-A8TT-01Z-00-DX1.652EA809-D931-46EE-80C...</td>\n      <td>TCGA-TP-A8TT-01Z-00-DX1.652EA809-D931-46EE-80C...</td>\n      <td>False</td>\n      <td>894</td>\n      <td>2682</td>\n      <td>83142</td>\n      <td>84930</td>\n      <td>0.904037</td>\n      <td>0.2527</td>\n      <td>0</td>\n      <td>2676.576168</td>\n      <td>TCGA-TP-A8TT</td>\n      <td>/mnt/ssd2tb/data/prostate_tcga_macenko/TCGA-TP...</td>\n      <td>0.950958</td>\n      <td>95615</td>\n      <td>76681</td>\n      <td>0.0</td>\n      <td>9.0</td>\n      <td></td>\n    </tr>\n    <tr>\n      <th>2</th>\n      <td>TCGA-TP-A8TT-01Z-00-DX1.652EA809-D931-46EE-80C...</td>\n      <td>TCGA-TP-A8TT-01Z-00-DX1.652EA809-D931-46EE-80C...</td>\n      <td>False</td>\n      <td>894</td>\n      <td>2682</td>\n      <td>84036</td>\n      <td>85824</td>\n      <td>0.904037</td>\n      <td>0.2527</td>\n      <td>0</td>\n      <td>1649.007784</td>\n      <td>TCGA-TP-A8TT</td>\n      <td>/mnt/ssd2tb/data/prostate_tcga_macenko/TCGA-TP...</td>\n      <td>0.248699</td>\n      <td>95615</td>\n      <td>76681</td>\n      <td>0.0</td>\n      <td>9.0</td>\n      <td></td>\n    </tr>\n    <tr>\n      <th>...</th>\n      <td>...</td>\n      <td>...</td>\n      <td>...</td>\n      <td>...</td>\n      <td>...</td>\n      <td>...</td>\n      <td>...</td>\n      <td>...</td>\n      <td>...</td>\n      <td>...</td>\n      <td>...</td>\n      <td>...</td>\n      <td>...</td>\n      <td>...</td>\n      <td>...</td>\n      <td>...</td>\n      <td>...</td>\n      <td>...</td>\n      <td>...</td>\n    </tr>\n    <tr>\n      <th>1509015</th>\n      <td>TCGA-HC-8261-01Z-00-DX1.231568ea-f873-4f62-85d...</td>\n      <td>TCGA-HC-8261-01Z-00-DX1.231568ea-f873-4f62-85d...</td>\n      <td>False</td>\n      <td>43953</td>\n      <td>45746</td>\n      <td>39468</td>\n      <td>41261</td>\n      <td>0.904037</td>\n      <td>0.2520</td>\n      <td>0</td>\n      <td>1944.815425</td>\n      <td>TCGA-HC-8261</td>\n      <td>/mnt/ssd2tb/data/prostate_tcga_macenko/TCGA-HC...</td>\n      <td>0.178846</td>\n      <td>73861</td>\n      <td>46656</td>\n      <td>0.0</td>\n      <td>5.0</td>\n      <td></td>\n    </tr>\n    <tr>\n      <th>1509016</th>\n      <td>TCGA-HC-8261-01Z-00-DX1.231568ea-f873-4f62-85d...</td>\n      <td>TCGA-HC-8261-01Z-00-DX1.231568ea-f873-4f62-85d...</td>\n      <td>False</td>\n      <td>43953</td>\n      <td>45746</td>\n      <td>40365</td>\n      <td>42158</td>\n      <td>0.904037</td>\n      <td>0.2520</td>\n      <td>0</td>\n      <td>1778.774628</td>\n      <td>TCGA-HC-8261</td>\n      <td>/mnt/ssd2tb/data/prostate_tcga_macenko/TCGA-HC...</td>\n      <td>0.353926</td>\n      <td>73861</td>\n      <td>46656</td>\n      <td>0.0</td>\n      <td>5.0</td>\n      <td></td>\n    </tr>\n    <tr>\n      <th>1509017</th>\n      <td>TCGA-HC-8261-01Z-00-DX1.231568ea-f873-4f62-85d...</td>\n      <td>TCGA-HC-8261-01Z-00-DX1.231568ea-f873-4f62-85d...</td>\n      <td>False</td>\n      <td>43953</td>\n      <td>45746</td>\n      <td>41262</td>\n      <td>43055</td>\n      <td>0.904037</td>\n      <td>0.2520</td>\n      <td>0</td>\n      <td>1832.824466</td>\n      <td>TCGA-HC-8261</td>\n      <td>/mnt/ssd2tb/data/prostate_tcga_macenko/TCGA-HC...</td>\n      <td>0.437537</td>\n      <td>73861</td>\n      <td>46656</td>\n      <td>0.0</td>\n      <td>5.0</td>\n      <td></td>\n    </tr>\n  </tbody>\n</table>\n<p>1509018 rows × 19 columns</p>\n</div>"
     },
     "metadata": {},
     "execution_count": 4
    }
   ],
   "source": [
    "df_tile = pd.read_pickle(path_df_tile)\n",
    "df_tile"
   ]
  },
  {
   "cell_type": "code",
   "execution_count": 5,
   "metadata": {},
   "outputs": [
    {
     "output_type": "stream",
     "name": "stderr",
     "text": [
      "100%|██████████| 39/39 [00:02<00:00, 13.73it/s]\n",
      "100%|██████████| 98/98 [00:07<00:00, 13.14it/s]\n"
     ]
    },
    {
     "output_type": "execute_result",
     "data": {
      "text/plain": [
       "5    213693\n",
       "1     45663\n",
       "Name: ISUP, dtype: int64"
      ]
     },
     "metadata": {},
     "execution_count": 5
    }
   ],
   "source": [
    "# Get high and low ISUP patients, count tiles in each category\n",
    "case_ids_lo = set(df_TCGA['Case ID'].loc[df_TCGA['ISUP'] == 1])\n",
    "case_ids_hi = set(df_TCGA['Case ID'].loc[df_TCGA['ISUP'] == 5])\n",
    "\n",
    "df_tile_cancer = df_tile.loc[df_tile['label']].reset_index(drop=True)\n",
    "\n",
    "df_tile_lo = list()\n",
    "for case_id in tqdm(case_ids_lo):\n",
    "    df_tmp = df_tile_cancer.loc[df_tile_cancer['Case ID'] == case_id]\n",
    "    df_tmp['ISUP'] = df_TCGA['ISUP'].loc[df_TCGA['Case ID'] == case_id].values[0]\n",
    "    df_tmp['class'] = 'low'\n",
    "    df_tile_lo.append(df_tmp)\n",
    "\n",
    "df_tile_lo = pd.concat(df_tile_lo).reset_index(drop=True)\n",
    "\n",
    "\n",
    "df_tile_hi = list()\n",
    "for case_id in tqdm(case_ids_hi):\n",
    "    df_tmp = df_tile_cancer.loc[df_tile_cancer['Case ID'] == case_id]\n",
    "    df_tmp['ISUP'] = df_TCGA['ISUP'].loc[df_TCGA['Case ID'] == case_id].values[0]\n",
    "    df_tmp['class'] = 'high'\n",
    "    df_tile_hi.append(df_tmp)\n",
    "\n",
    "df_tile_hi = pd.concat(df_tile_hi).reset_index(drop=True)\n",
    "\n",
    "pd.concat([df_tile_lo, df_tile_hi])['ISUP'].value_counts()"
   ]
  },
  {
   "cell_type": "code",
   "execution_count": 6,
   "metadata": {},
   "outputs": [
    {
     "output_type": "stream",
     "name": "stdout",
     "text": [
      "5    45663\n1    45663\nName: ISUP, dtype: int64\n"
     ]
    },
    {
     "output_type": "execute_result",
     "data": {
      "text/plain": [
       "                                              slide_name  \\\n",
       "0      TCGA-HC-8258-01Z-00-DX1.ac8865dd-1687-4afa-b53...   \n",
       "1      TCGA-HC-8258-01Z-00-DX1.ac8865dd-1687-4afa-b53...   \n",
       "2      TCGA-HC-8258-01Z-00-DX1.ac8865dd-1687-4afa-b53...   \n",
       "...                                                  ...   \n",
       "91323  TCGA-KK-A6E1-01Z-00-DX1.83E2D047-9152-4CD5-A5C...   \n",
       "91324  TCGA-KK-A7AU-01Z-00-DX1.5DA62B04-B06C-4EBB-951...   \n",
       "91325  TCGA-KK-A8IK-01Z-00-DX1.FB5F2457-F503-4A0F-891...   \n",
       "\n",
       "                                               tile_name  label    top  \\\n",
       "0      TCGA-HC-8258-01Z-00-DX1.ac8865dd-1687-4afa-b53...   True  17043   \n",
       "1      TCGA-HC-8258-01Z-00-DX1.ac8865dd-1687-4afa-b53...   True  17043   \n",
       "2      TCGA-HC-8258-01Z-00-DX1.ac8865dd-1687-4afa-b53...   True  17043   \n",
       "...                                                  ...    ...    ...   \n",
       "91323  TCGA-KK-A6E1-01Z-00-DX1.83E2D047-9152-4CD5-A5C...   True  55876   \n",
       "91324  TCGA-KK-A7AU-01Z-00-DX1.5DA62B04-B06C-4EBB-951...   True  20042   \n",
       "91325  TCGA-KK-A8IK-01Z-00-DX1.FB5F2457-F503-4A0F-891...   True  26419   \n",
       "\n",
       "       bottom    left   right       mpp  mpp_source  lvl         blur  \\\n",
       "0       18836   24219   26012  0.904037      0.2520    0  2230.440008   \n",
       "1       18836   25116   26909  0.904037      0.2520    0  3422.839507   \n",
       "2       18836   26013   27806  0.904037      0.2520    0  4094.592131   \n",
       "...       ...     ...     ...       ...         ...  ...          ...   \n",
       "91323   57707  106256  108087  0.904037      0.2468    0  2107.719193   \n",
       "91324   21864   42817   44639  0.904037      0.2480    0  3540.881543   \n",
       "91325   28241   92011   93833  0.904037      0.2480    0  4129.846621   \n",
       "\n",
       "            Case ID                                          path_tile  \\\n",
       "0      TCGA-HC-8258  /mnt/ssd2tb/data/prostate_tcga_macenko/TCGA-HC...   \n",
       "1      TCGA-HC-8258  /mnt/ssd2tb/data/prostate_tcga_macenko/TCGA-HC...   \n",
       "2      TCGA-HC-8258  /mnt/ssd2tb/data/prostate_tcga_macenko/TCGA-HC...   \n",
       "...             ...                                                ...   \n",
       "91323  TCGA-KK-A6E1  /mnt/ssd2tb/data/prostate_tcga_macenko/TCGA-KK...   \n",
       "91324  TCGA-KK-A7AU  /mnt/ssd2tb/data/prostate_tcga_macenko/TCGA-KK...   \n",
       "91325  TCGA-KK-A8IK  /mnt/ssd2tb/data/prostate_tcga_macenko/TCGA-KK...   \n",
       "\n",
       "       cancer_prob  slide_w  slide_h tile_name_ssd  ISUP class  \n",
       "0         0.999986    53717    48771         0.jpg     1   low  \n",
       "1         0.999997    53717    48771         1.jpg     1   low  \n",
       "2         0.999567    53717    48771         2.jpg     1   low  \n",
       "...            ...      ...      ...           ...   ...   ...  \n",
       "91323     0.980234   127568    93692      1719.jpg     5  high  \n",
       "91324     0.995058    99959    91044       150.jpg     5  high  \n",
       "91325     0.885822   116143    85513       623.jpg     5  high  \n",
       "\n",
       "[91326 rows x 19 columns]"
      ],
      "text/html": "<div>\n<style scoped>\n    .dataframe tbody tr th:only-of-type {\n        vertical-align: middle;\n    }\n\n    .dataframe tbody tr th {\n        vertical-align: top;\n    }\n\n    .dataframe thead th {\n        text-align: right;\n    }\n</style>\n<table border=\"1\" class=\"dataframe\">\n  <thead>\n    <tr style=\"text-align: right;\">\n      <th></th>\n      <th>slide_name</th>\n      <th>tile_name</th>\n      <th>label</th>\n      <th>top</th>\n      <th>bottom</th>\n      <th>left</th>\n      <th>right</th>\n      <th>mpp</th>\n      <th>mpp_source</th>\n      <th>lvl</th>\n      <th>blur</th>\n      <th>Case ID</th>\n      <th>path_tile</th>\n      <th>cancer_prob</th>\n      <th>slide_w</th>\n      <th>slide_h</th>\n      <th>tile_name_ssd</th>\n      <th>ISUP</th>\n      <th>class</th>\n    </tr>\n  </thead>\n  <tbody>\n    <tr>\n      <th>0</th>\n      <td>TCGA-HC-8258-01Z-00-DX1.ac8865dd-1687-4afa-b53...</td>\n      <td>TCGA-HC-8258-01Z-00-DX1.ac8865dd-1687-4afa-b53...</td>\n      <td>True</td>\n      <td>17043</td>\n      <td>18836</td>\n      <td>24219</td>\n      <td>26012</td>\n      <td>0.904037</td>\n      <td>0.2520</td>\n      <td>0</td>\n      <td>2230.440008</td>\n      <td>TCGA-HC-8258</td>\n      <td>/mnt/ssd2tb/data/prostate_tcga_macenko/TCGA-HC...</td>\n      <td>0.999986</td>\n      <td>53717</td>\n      <td>48771</td>\n      <td>0.jpg</td>\n      <td>1</td>\n      <td>low</td>\n    </tr>\n    <tr>\n      <th>1</th>\n      <td>TCGA-HC-8258-01Z-00-DX1.ac8865dd-1687-4afa-b53...</td>\n      <td>TCGA-HC-8258-01Z-00-DX1.ac8865dd-1687-4afa-b53...</td>\n      <td>True</td>\n      <td>17043</td>\n      <td>18836</td>\n      <td>25116</td>\n      <td>26909</td>\n      <td>0.904037</td>\n      <td>0.2520</td>\n      <td>0</td>\n      <td>3422.839507</td>\n      <td>TCGA-HC-8258</td>\n      <td>/mnt/ssd2tb/data/prostate_tcga_macenko/TCGA-HC...</td>\n      <td>0.999997</td>\n      <td>53717</td>\n      <td>48771</td>\n      <td>1.jpg</td>\n      <td>1</td>\n      <td>low</td>\n    </tr>\n    <tr>\n      <th>2</th>\n      <td>TCGA-HC-8258-01Z-00-DX1.ac8865dd-1687-4afa-b53...</td>\n      <td>TCGA-HC-8258-01Z-00-DX1.ac8865dd-1687-4afa-b53...</td>\n      <td>True</td>\n      <td>17043</td>\n      <td>18836</td>\n      <td>26013</td>\n      <td>27806</td>\n      <td>0.904037</td>\n      <td>0.2520</td>\n      <td>0</td>\n      <td>4094.592131</td>\n      <td>TCGA-HC-8258</td>\n      <td>/mnt/ssd2tb/data/prostate_tcga_macenko/TCGA-HC...</td>\n      <td>0.999567</td>\n      <td>53717</td>\n      <td>48771</td>\n      <td>2.jpg</td>\n      <td>1</td>\n      <td>low</td>\n    </tr>\n    <tr>\n      <th>...</th>\n      <td>...</td>\n      <td>...</td>\n      <td>...</td>\n      <td>...</td>\n      <td>...</td>\n      <td>...</td>\n      <td>...</td>\n      <td>...</td>\n      <td>...</td>\n      <td>...</td>\n      <td>...</td>\n      <td>...</td>\n      <td>...</td>\n      <td>...</td>\n      <td>...</td>\n      <td>...</td>\n      <td>...</td>\n      <td>...</td>\n      <td>...</td>\n    </tr>\n    <tr>\n      <th>91323</th>\n      <td>TCGA-KK-A6E1-01Z-00-DX1.83E2D047-9152-4CD5-A5C...</td>\n      <td>TCGA-KK-A6E1-01Z-00-DX1.83E2D047-9152-4CD5-A5C...</td>\n      <td>True</td>\n      <td>55876</td>\n      <td>57707</td>\n      <td>106256</td>\n      <td>108087</td>\n      <td>0.904037</td>\n      <td>0.2468</td>\n      <td>0</td>\n      <td>2107.719193</td>\n      <td>TCGA-KK-A6E1</td>\n      <td>/mnt/ssd2tb/data/prostate_tcga_macenko/TCGA-KK...</td>\n      <td>0.980234</td>\n      <td>127568</td>\n      <td>93692</td>\n      <td>1719.jpg</td>\n      <td>5</td>\n      <td>high</td>\n    </tr>\n    <tr>\n      <th>91324</th>\n      <td>TCGA-KK-A7AU-01Z-00-DX1.5DA62B04-B06C-4EBB-951...</td>\n      <td>TCGA-KK-A7AU-01Z-00-DX1.5DA62B04-B06C-4EBB-951...</td>\n      <td>True</td>\n      <td>20042</td>\n      <td>21864</td>\n      <td>42817</td>\n      <td>44639</td>\n      <td>0.904037</td>\n      <td>0.2480</td>\n      <td>0</td>\n      <td>3540.881543</td>\n      <td>TCGA-KK-A7AU</td>\n      <td>/mnt/ssd2tb/data/prostate_tcga_macenko/TCGA-KK...</td>\n      <td>0.995058</td>\n      <td>99959</td>\n      <td>91044</td>\n      <td>150.jpg</td>\n      <td>5</td>\n      <td>high</td>\n    </tr>\n    <tr>\n      <th>91325</th>\n      <td>TCGA-KK-A8IK-01Z-00-DX1.FB5F2457-F503-4A0F-891...</td>\n      <td>TCGA-KK-A8IK-01Z-00-DX1.FB5F2457-F503-4A0F-891...</td>\n      <td>True</td>\n      <td>26419</td>\n      <td>28241</td>\n      <td>92011</td>\n      <td>93833</td>\n      <td>0.904037</td>\n      <td>0.2480</td>\n      <td>0</td>\n      <td>4129.846621</td>\n      <td>TCGA-KK-A8IK</td>\n      <td>/mnt/ssd2tb/data/prostate_tcga_macenko/TCGA-KK...</td>\n      <td>0.885822</td>\n      <td>116143</td>\n      <td>85513</td>\n      <td>623.jpg</td>\n      <td>5</td>\n      <td>high</td>\n    </tr>\n  </tbody>\n</table>\n<p>91326 rows × 19 columns</p>\n</div>"
     },
     "metadata": {},
     "execution_count": 6
    }
   ],
   "source": [
    "# Randomly select the same number of grade 5 tiles as grade 1 tiles\n",
    "np.random.seed(0)\n",
    "df_tile_hi_tmp = df_tile_hi.loc[np.random.choice(len(df_tile_hi), size=len(df_tile_lo), replace=False)]\n",
    "df_tile_class = pd.concat([df_tile_lo, df_tile_hi_tmp]).reset_index(drop=True)\n",
    "print(df_tile_class['ISUP'].value_counts())\n",
    "df_tile_class = df_tile_class.drop(labels=['CV', 'Test'], axis=1)\n",
    "df_tile_class"
   ]
  },
  {
   "cell_type": "code",
   "execution_count": 7,
   "metadata": {},
   "outputs": [],
   "source": [
    "# Only use half the dataset\n",
    "df_tile_class = df_tile_class.loc[np.random.choice(len(df_tile_class), replace=False, size=int(0.5*len(df_tile_class)))]"
   ]
  },
  {
   "cell_type": "code",
   "execution_count": 8,
   "metadata": {},
   "outputs": [
    {
     "output_type": "execute_result",
     "data": {
      "text/plain": [
       "0    27595\n",
       "1     9115\n",
       "2     8953\n",
       "Name: set, dtype: int64"
      ]
     },
     "metadata": {},
     "execution_count": 8
    }
   ],
   "source": [
    "# Assign a fold label with 0 = train, 1 = valid, 2 = test\n",
    "df_tile_class['set'] = np.random.choice([0, 1, 2], size=len(df_tile_class), p=[0.6, 0.2, 0.2])\n",
    "df_tile_class['set'].value_counts()"
   ]
  },
  {
   "cell_type": "code",
   "execution_count": 9,
   "metadata": {},
   "outputs": [],
   "source": [
    "df_tile_class.to_pickle(path_df_out)"
   ]
  }
 ]
}